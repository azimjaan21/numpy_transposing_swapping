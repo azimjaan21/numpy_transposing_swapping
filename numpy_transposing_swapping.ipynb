{
  "nbformat": 4,
  "nbformat_minor": 0,
  "metadata": {
    "colab": {
      "provenance": [],
      "authorship_tag": "ABX9TyNZGVG4jpaLU68ibXPX1aMN",
      "include_colab_link": true
    },
    "kernelspec": {
      "name": "python3",
      "display_name": "Python 3"
    },
    "language_info": {
      "name": "python"
    }
  },
  "cells": [
    {
      "cell_type": "markdown",
      "metadata": {
        "id": "view-in-github",
        "colab_type": "text"
      },
      "source": [
        "<a href=\"https://colab.research.google.com/github/azimjaan21/numpy_transposing_swapping/blob/main/numpy_transposing_swapping.ipynb\" target=\"_parent\"><img src=\"https://colab.research.google.com/assets/colab-badge.svg\" alt=\"Open In Colab\"/></a>"
      ]
    },
    {
      "cell_type": "markdown",
      "source": [
        "**Transpose arrays and swap axes**"
      ],
      "metadata": {
        "id": "6hznbtFhw3y9"
      }
    },
    {
      "cell_type": "code",
      "source": [
        "import numpy as np"
      ],
      "metadata": {
        "id": "rAJWi0BnxLQ2"
      },
      "execution_count": 1,
      "outputs": []
    },
    {
      "cell_type": "markdown",
      "source": [
        "# reshape()"
      ],
      "metadata": {
        "id": "-S0nKQ0kxFyq"
      }
    },
    {
      "cell_type": "code",
      "source": [],
      "metadata": {
        "id": "5L2KhweixJt5"
      },
      "execution_count": null,
      "outputs": []
    }
  ]
}